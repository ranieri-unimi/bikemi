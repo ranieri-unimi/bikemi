{
 "cells": [
  {
   "cell_type": "code",
   "execution_count": null,
   "metadata": {},
   "outputs": [],
   "source": [
    "import pickle\n",
    "import pandas\n",
    "import datetime\n",
    "import numpy\n",
    "import datetime\n",
    "\n",
    "from matplotlib import pyplot\n",
    "from matplotlib import dates\n",
    "from scipy.spatial import Voronoi, voronoi_plot_2d\n",
    "from statsmodels.distributions.empirical_distribution import ECDF\n",
    "from scipy import misc\n",
    "\n",
    "from matplotlib import cm\n",
    "from matplotlib import pyplot\n",
    "from numpy import linalg\n",
    "from numpy import random\n",
    "from random import sample\n",
    "from scipy import signal \n",
    "from scipy import stats\n",
    "from shapely.geometry import Point, Polygon\n",
    "from sklearn.cluster import KMeans\n",
    "from sklearn.datasets import make_blobs\n",
    "from sklearn.metrics import silhouette_samples\n",
    "from sklearn.metrics import silhouette_score\n",
    "from statsmodels.distributions.empirical_distribution import ECDF\n",
    "from collections import defaultdict\n",
    "\n",
    "import dmr\n",
    "import datetime\n",
    "import foursquare\n",
    "import geopandas\n",
    "import math\n",
    "import numpy\n",
    "import pandas\n",
    "import pickle\n",
    "import pymongo\n",
    "import time\n",
    "import seaborn"
   ]
  },
  {
   "cell_type": "code",
   "execution_count": null,
   "metadata": {},
   "outputs": [],
   "source": [
    "sq_leaf = (5.0, 3.0)"
   ]
  },
  {
   "cell_type": "code",
   "execution_count": null,
   "metadata": {},
   "outputs": [],
   "source": [
    "def leaf(name):\n",
    "    fig.savefig('lab_plot/'+name+'.eps', dpi=150, format='eps', transparent=True, pad_inches=0.10)"
   ]
  },
  {
   "cell_type": "markdown",
   "metadata": {},
   "source": [
    "# DMR Snapshot"
   ]
  },
  {
   "cell_type": "code",
   "execution_count": null,
   "metadata": {},
   "outputs": [],
   "source": [
    "col = {45:'blue', 55:'purple', 65:'red', 75:'orange', 85:'yellow'}"
   ]
  },
  {
   "cell_type": "code",
   "execution_count": null,
   "metadata": {},
   "outputs": [],
   "source": [
    "lda = {45:None, 55:None, 65:None, 75:None, 85:None}\n",
    "for i in lda:\n",
    "    lda[i] = pickle.load(open('kato_dmr/'+str(i)+'lda.pkl', 'rb'))"
   ]
  },
  {
   "cell_type": "code",
   "execution_count": null,
   "metadata": {},
   "outputs": [],
   "source": [
    "fig = pyplot.figure(figsize=sq_leaf)\n",
    "ax = fig.gca()\n",
    "for i in lda:\n",
    "    tmp = lda[i].z_m_n\n",
    "    t = numpy.array(tmp).ravel()\n",
    "    y, x = numpy.histogram(t, numpy.arange(0, max(t)+2, 1))\n",
    "    ax.plot(x[:-1], y, marker='.',ms=5.0, linestyle='-', color=col[i])"
   ]
  },
  {
   "cell_type": "markdown",
   "metadata": {},
   "source": [
    "### Disto delta-T"
   ]
  },
  {
   "cell_type": "code",
   "execution_count": null,
   "metadata": {},
   "outputs": [],
   "source": [
    "next_df = pickle.load(open('archive/bikemi_dataframe.pkl', 'rb'))"
   ]
  },
  {
   "cell_type": "code",
   "execution_count": null,
   "metadata": {},
   "outputs": [],
   "source": [
    "tmp = numpy.array(next_df['Durata_sec'].tolist())\n",
    "a = tmp/60"
   ]
  },
  {
   "cell_type": "code",
   "execution_count": null,
   "metadata": {},
   "outputs": [],
   "source": [
    "fig = pyplot.figure(figsize=sq_leaf)\n",
    "ax = fig.gca()\n",
    "eps = 0.5\n",
    "y, x = numpy.histogram(a, numpy.arange(0, max(a)+2*eps, eps))\n",
    "ax.plot(x[:-1], y, marker='.',ms=0.0, linewidth=2.4, linestyle='-', color='purple')\n",
    "ax.set_xlim(3, 60)\n",
    "ax.axes.get_yaxis().set_visible(False)\n",
    "ax.axvline(x=numpy.mean(a), color='blue', linewidth=1.2)\n",
    "ax.axvline(x=numpy.median(a), color='red', linewidth=1.2)\n",
    "ax.text(16, 300000,'$\\mu$')\n",
    "ax.text(6, 30000,'$0.5p$')"
   ]
  },
  {
   "cell_type": "code",
   "execution_count": null,
   "metadata": {},
   "outputs": [],
   "source": [
    "leaf('delta-time-distro')"
   ]
  },
  {
   "cell_type": "code",
   "execution_count": null,
   "metadata": {},
   "outputs": [],
   "source": [
    "numpy.mean(a), numpy.percentile(a, 50), numpy.std(a), numpy.where(y == max(y))[0][0]*eps"
   ]
  },
  {
   "cell_type": "code",
   "execution_count": null,
   "metadata": {},
   "outputs": [],
   "source": [
    "y[:30]"
   ]
  },
  {
   "cell_type": "code",
   "execution_count": null,
   "metadata": {},
   "outputs": [],
   "source": [
    "numpy.percentile(a, 25), numpy.percentile(a, 75)"
   ]
  },
  {
   "cell_type": "code",
   "execution_count": null,
   "metadata": {},
   "outputs": [],
   "source": [
    "# CCDF\n",
    "fig = pyplot.figure(figsize=sq_leaf)\n",
    "ax = fig.gca()\n",
    "ecdf = ECDF(a)\n",
    "ax.plot(ecdf.x, 1-ecdf.y, marker='.',ms=0.5, linestyle='-', color='black')\n",
    "ax.set_xlim(0, 60)\n",
    "#ax.set_ylim(0, 250)"
   ]
  },
  {
   "cell_type": "code",
   "execution_count": null,
   "metadata": {},
   "outputs": [],
   "source": [
    "ecdf(10)-ecdf(3)"
   ]
  },
  {
   "cell_type": "markdown",
   "metadata": {},
   "source": [
    "### Partenze e arrivi"
   ]
  },
  {
   "cell_type": "code",
   "execution_count": null,
   "metadata": {},
   "outputs": [],
   "source": [
    "def nit(t):\n",
    "    return 60*(60*t.hour+t.minute)+t.second"
   ]
  },
  {
   "cell_type": "code",
   "execution_count": null,
   "metadata": {},
   "outputs": [],
   "source": [
    "a = [nit(i) for i in next_df['Data_prelievo'].tolist()]\n",
    "b = [nit(i) for i in next_df['Data_arrivo'].tolist()]"
   ]
  },
  {
   "cell_type": "code",
   "execution_count": null,
   "metadata": {},
   "outputs": [],
   "source": [
    "a_w = next_df[next_df['Festivo_feriale_prelievo'] == 0]['Data_prelievo'].tolist()\n",
    "a_h = next_df[next_df['Festivo_feriale_prelievo'] == 1]['Data_prelievo'].tolist()\n",
    "b_w = next_df[next_df['Festivo_feriale_prelievo'] == 0]['Data_arrivo'].tolist()\n",
    "b_h = next_df[next_df['Festivo_feriale_prelievo'] == 1]['Data_arrivo'].tolist()"
   ]
  },
  {
   "cell_type": "code",
   "execution_count": null,
   "metadata": {},
   "outputs": [],
   "source": [
    "fig = pyplot.figure(figsize=(20,10))\n",
    "ax = fig.gca()\n",
    "eps = 10*60\n",
    "sh = 7*60*60\n",
    "\n",
    "y, x = numpy.histogram([nit(i) for i in a_w], numpy.arange(0, 86400+eps, eps))\n",
    "y = numpy.roll(y, int(-sh/eps))\n",
    "ax.plot(x[:-1], y, marker='o',ms=0.0, linewidth=1.75, linestyle='--', color='green')\n",
    "\n",
    "y, x = numpy.histogram([nit(i) for i in a_h], numpy.arange(0, 86400+eps, eps))\n",
    "y = numpy.roll(y, int(-sh/eps))\n",
    "ax.plot(x[:-1], y, marker='o',ms=0.0, linewidth=1.75, linestyle='--', color='blue')\n",
    "\n",
    "y, x = numpy.histogram([nit(i) for i in b_w], numpy.arange(0, 86400+eps, eps))\n",
    "y = numpy.roll(y, int(-sh/eps))\n",
    "ax.plot(x[:-1], y, marker='o',ms=0.0, linewidth=1.75, linestyle='--', color='red')\n",
    "\n",
    "y, x = numpy.histogram([nit(i) for i in b_h], numpy.arange(0, 86400+eps, eps))\n",
    "y = numpy.roll(y, int(-sh/eps))\n",
    "ax.plot(x[:-1], y, marker='o',ms=0.0, linewidth=1.75, linestyle='--', color='yellow')\n",
    "\n",
    "ax.set_xlim(0, 18*60*60)\n",
    "ax.axes.get_yaxis().set_visible(False)"
   ]
  },
  {
   "cell_type": "code",
   "execution_count": null,
   "metadata": {},
   "outputs": [],
   "source": [
    "t1 = [l.get_text() for l in ax.get_xticklabels()]\n",
    "t2 = [int((int(i)+sh)%86400/60/60) for i in t1]\n",
    "ax.set_xticklabels(t2)"
   ]
  },
  {
   "cell_type": "code",
   "execution_count": null,
   "metadata": {},
   "outputs": [],
   "source": [
    "leaf('partenza-arrivo-distro')"
   ]
  },
  {
   "cell_type": "markdown",
   "metadata": {},
   "source": [
    "## Voronoi Plots "
   ]
  },
  {
   "cell_type": "code",
   "execution_count": null,
   "metadata": {},
   "outputs": [],
   "source": [
    "gps = pickle.load(open('/home/datasets/bikemi/station_gps_location.pkl', 'rb'))"
   ]
  },
  {
   "cell_type": "code",
   "execution_count": null,
   "metadata": {},
   "outputs": [],
   "source": [
    "lst = [(g[1],g[0]) for g in gps.values()]\n",
    "raw_voronoi = Voronoi(lst)"
   ]
  },
  {
   "cell_type": "code",
   "execution_count": null,
   "metadata": {},
   "outputs": [],
   "source": [
    "# figur-tela e i sui assi\n",
    "fig = pyplot.figure(figsize=sq_leaf)"
   ]
  },
  {
   "cell_type": "code",
   "execution_count": null,
   "metadata": {},
   "outputs": [],
   "source": [
    "ax = fig.gca()"
   ]
  },
  {
   "cell_type": "code",
   "execution_count": null,
   "metadata": {},
   "outputs": [],
   "source": [
    "voronoi_plot_2d(\n",
    "    raw_voronoi,\n",
    "    ax = ax,\n",
    "    show_points = True,\n",
    "    show_vertices = False,\n",
    "    line_colors = \"black\",\n",
    "    line_width = 1.0,\n",
    "    line_alpha = 1.0,\n",
    "    point_size = 3.5\n",
    ")"
   ]
  },
  {
   "cell_type": "code",
   "execution_count": null,
   "metadata": {},
   "outputs": [],
   "source": [
    "leaf('voronoi-galaxy')"
   ]
  },
  {
   "cell_type": "code",
   "execution_count": null,
   "metadata": {},
   "outputs": [],
   "source": [
    "# figur-tela e i sui assi\n",
    "fig = pyplot.figure(figsize=sq_leaf)\n",
    "ax = fig.gca()\n",
    "\n",
    "cy = [i[1] for i in raw_voronoi.vertices]\n",
    "cx = [i[0] for i in raw_voronoi.vertices]\n",
    "\n",
    "ax.plot(cx, cy, marker='.',ms=1.5, linestyle=' ', color='purple')\n",
    "\n",
    "ax.set_xlim(min(cx)-0.04,max(cx)+0.04)\n",
    "ax.set_ylim(min(cy)-0.04,max(cy)+0.04)"
   ]
  },
  {
   "cell_type": "markdown",
   "metadata": {},
   "source": [
    "### Sample "
   ]
  },
  {
   "cell_type": "code",
   "execution_count": null,
   "metadata": {},
   "outputs": [],
   "source": [
    "csv_uri = '/home/datasets/bikemi/2017/12 2017.csv'"
   ]
  },
  {
   "cell_type": "code",
   "execution_count": null,
   "metadata": {},
   "outputs": [],
   "source": [
    "df = pandas.read_csv(csv_uri,\n",
    "                           lineterminator ='\\r',\n",
    "                           encoding = 'iso8859_2',\n",
    "                           sep = ';',\n",
    "                           parse_dates = ['Data_prelievo','Data_arrivo'],\n",
    "                           date_parser = lambda x: datetime.datetime.strptime(x,'%d/%m/%y %H:%M'),\n",
    "                           decimal = '.'\n",
    "                          )"
   ]
  },
  {
   "cell_type": "code",
   "execution_count": null,
   "metadata": {},
   "outputs": [],
   "source": [
    "nomi = set()\n",
    "for _, i in df.iterrows():\n",
    "    nomi.add(i['Nome_stazione_arrivo'])\n",
    "    nomi.add(i['Nome_stazione_prelievo'])"
   ]
  },
  {
   "cell_type": "code",
   "execution_count": null,
   "metadata": {},
   "outputs": [],
   "source": [
    "nomi"
   ]
  },
  {
   "cell_type": "code",
   "execution_count": null,
   "metadata": {},
   "outputs": [],
   "source": [
    "df.columns"
   ]
  },
  {
   "cell_type": "markdown",
   "metadata": {},
   "source": [
    "### Beta distro"
   ]
  },
  {
   "cell_type": "code",
   "execution_count": null,
   "metadata": {},
   "outputs": [],
   "source": [
    "# distro word topic\n",
    "rgb = ['black','grey','pink','brown','purple','blue','green','yellow','orange','red']\n",
    "fig = pyplot.figure(figsize=sq_leaf)\n",
    "ax = fig.gca()\n",
    "for i in range(len(categories)):\n",
    "    t= [b[i,j] for j in range(len(b[i]))]\n",
    "    x, y = numpy.histogram(t, range(max(t)))\n",
    "    ax.loglog(y[1:], x, marker='.',ms=2.25, linestyle='', color=rgb[i])"
   ]
  }
 ],
 "metadata": {
  "kernelspec": {
   "display_name": "Python BikeMI",
   "language": "python",
   "name": "bikemi"
  },
  "language_info": {
   "codemirror_mode": {
    "name": "ipython",
    "version": 3
   },
   "file_extension": ".py",
   "mimetype": "text/x-python",
   "name": "python",
   "nbconvert_exporter": "python",
   "pygments_lexer": "ipython3",
   "version": "3.7.4"
  }
 },
 "nbformat": 4,
 "nbformat_minor": 2
}
