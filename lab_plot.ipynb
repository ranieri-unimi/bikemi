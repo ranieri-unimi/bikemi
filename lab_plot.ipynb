{
 "cells": [
  {
   "cell_type": "code",
   "execution_count": 1,
   "metadata": {},
   "outputs": [],
   "source": [
    "import pickle\n",
    "import pandas\n",
    "import datetime\n",
    "import numpy\n",
    "import datetime\n",
    "\n",
    "from matplotlib import pyplot\n",
    "from matplotlib import dates\n",
    "from scipy.spatial import Voronoi, voronoi_plot_2d\n",
    "from statsmodels.distributions.empirical_distribution import ECDF\n",
    "from scipy import misc\n",
    "\n",
    "from matplotlib import cm\n",
    "from matplotlib import pyplot\n",
    "from numpy import linalg\n",
    "from numpy import random\n",
    "from random import sample\n",
    "from scipy import signal \n",
    "from scipy import stats\n",
    "from shapely.geometry import Point, Polygon\n",
    "from sklearn.cluster import KMeans\n",
    "from sklearn.datasets import make_blobs\n",
    "from sklearn.metrics import silhouette_samples\n",
    "from sklearn.metrics import silhouette_score\n",
    "from statsmodels.distributions.empirical_distribution import ECDF\n",
    "from collections import defaultdict\n",
    "\n",
    "import dmr\n",
    "import datetime\n",
    "import foursquare\n",
    "import geopandas\n",
    "import math\n",
    "import numpy\n",
    "import pandas\n",
    "import pickle\n",
    "import pymongo\n",
    "import time\n",
    "import seaborn"
   ]
  },
  {
   "cell_type": "code",
   "execution_count": 2,
   "metadata": {},
   "outputs": [],
   "source": [
    "sq_leaf = (5.0, 3.0)"
   ]
  },
  {
   "cell_type": "code",
   "execution_count": 3,
   "metadata": {},
   "outputs": [],
   "source": [
    "def leaf(name):\n",
    "    fig.savefig('lab_plot/'+name+'.eps', dpi=150, format='eps', transparent=True, pad_inches=0.10)"
   ]
  },
  {
   "cell_type": "markdown",
   "metadata": {},
   "source": [
    "# DMR Snapshot"
   ]
  },
  {
   "cell_type": "code",
   "execution_count": 4,
   "metadata": {},
   "outputs": [],
   "source": [
    "col = {45:'blue', 55:'purple', 65:'red', 75:'orange', 85:'yellow'}"
   ]
  },
  {
   "cell_type": "code",
   "execution_count": 5,
   "metadata": {},
   "outputs": [],
   "source": [
    "lda = {45:None, 55:None, 65:None, 75:None, 85:None}\n",
    "for i in lda:\n",
    "    lda[i] = pickle.load(open('kato_dmr/'+str(i)+'lda.pkl', 'rb'))"
   ]
  },
  {
   "cell_type": "code",
   "execution_count": 6,
   "metadata": {},
   "outputs": [
    {
     "data": {
      "image/png": "[encoded data removed]",
      "text/plain": [
       "<Figure size 360x216 with 1 Axes>"
      ]
     },
     "metadata": {
      "needs_background": "light"
     },
     "output_type": "display_data"
    }
   ],
   "source": [
    "fig = pyplot.figure(figsize=sq_leaf)\n",
    "ax = fig.gca()\n",
    "for i in lda:\n",
    "    tmp = lda[i].z_m_n\n",
    "    t = numpy.array(tmp).ravel()\n",
    "    y, x = numpy.histogram(t, numpy.arange(0, max(t)+2, 1))\n",
    "    ax.plot(x[:-1], y, marker='.',ms=5.0, linestyle='-', color=col[i])"
   ]
  },
  {
   "cell_type": "markdown",
   "metadata": {},
   "source": [
    "### Disto delta-T"
   ]
  },
  {
   "cell_type": "code",
   "execution_count": 7,
   "metadata": {},
   "outputs": [],
   "source": [
    "next_df = pickle.load(open('archive/bikemi_dataframe.pkl', 'rb'))"
   ]
  },
  {
   "cell_type": "code",
   "execution_count": 8,
   "metadata": {},
   "outputs": [],
   "source": [
    "tmp = numpy.array(next_df['Durata_sec'].tolist())\n",
    "a = tmp/60"
   ]
  },
  {
   "cell_type": "code",
   "execution_count": 9,
   "metadata": {},
   "outputs": [
    {
     "data": {
      "text/plain": [
       "Text(6, 30000, '$0.5p$')"
      ]
     },
     "execution_count": 9,
     "metadata": {},
     "output_type": "execute_result"
    },
    {
     "data": {
      "image/png": "[encoded data removed]",
      "text/plain": [
       "<Figure size 360x216 with 1 Axes>"
      ]
     },
     "metadata": {
      "needs_background": "light"
     },
     "output_type": "display_data"
    }
   ],
   "source": [
    "fig = pyplot.figure(figsize=sq_leaf)\n",
    "ax = fig.gca()\n",
    "eps = 0.5\n",
    "y, x = numpy.histogram(a, numpy.arange(0, max(a)+2*eps, eps))\n",
    "ax.plot(x[:-1], y, marker='.',ms=0.0, linewidth=2.4, linestyle='-', color='purple')\n",
    "ax.set_xlim(3, 60)\n",
    "ax.axes.get_yaxis().set_visible(False)\n",
    "ax.axvline(x=numpy.mean(a), color='blue', linewidth=1.2)\n",
    "ax.axvline(x=numpy.median(a), color='red', linewidth=1.2)\n",
    "ax.text(16, 300000,'$\\mu$')\n",
    "ax.text(6, 30000,'$0.5p$')"
   ]
  },
  {
   "cell_type": "code",
   "execution_count": 10,
   "metadata": {},
   "outputs": [],
   "source": [
    "leaf('delta-time-distro')"
   ]
  },
  {
   "cell_type": "code",
   "execution_count": 11,
   "metadata": {},
   "outputs": [
    {
     "data": {
      "text/plain": [
       "(15.035625407560817, 10.866666666666667, 30.581304023183502, 7.0)"
      ]
     },
     "execution_count": 11,
     "metadata": {},
     "output_type": "execute_result"
    }
   ],
   "source": [
    "numpy.mean(a), numpy.percentile(a, 50), numpy.std(a), numpy.where(y == max(y))[0][0]*eps"
   ]
  },
  {
   "cell_type": "code",
   "execution_count": 12,
   "metadata": {},
   "outputs": [
    {
     "data": {
      "text/plain": [
       "array([  1760,   1010,    230,     63,     64,     80, 185922, 250280,\n",
       "       306942, 350260, 380965, 401193, 414826, 421393, 421441, 417916,\n",
       "       410236, 399244, 387005, 372993, 357734, 342126, 327306, 310997,\n",
       "       295576, 279759, 265009, 251269, 237622, 224060])"
      ]
     },
     "execution_count": 12,
     "metadata": {},
     "output_type": "execute_result"
    }
   ],
   "source": [
    "y[:30]"
   ]
  },
  {
   "cell_type": "code",
   "execution_count": 13,
   "metadata": {},
   "outputs": [
    {
     "data": {
      "text/plain": [
       "(7.166666666666667, 16.466666666666665)"
      ]
     },
     "execution_count": 13,
     "metadata": {},
     "output_type": "execute_result"
    }
   ],
   "source": [
    "numpy.percentile(a, 25), numpy.percentile(a, 75)"
   ]
  },
  {
   "cell_type": "code",
   "execution_count": 14,
   "metadata": {},
   "outputs": [
    {
     "data": {
      "text/plain": [
       "(0, 60)"
      ]
     },
     "execution_count": 14,
     "metadata": {},
     "output_type": "execute_result"
    },
    {
     "data": {
      "image/png": "[encoded data removed]",
      "text/plain": [
       "<Figure size 360x216 with 1 Axes>"
      ]
     },
     "metadata": {
      "needs_background": "light"
     },
     "output_type": "display_data"
    }
   ],
   "source": [
    "# CCDF\n",
    "fig = pyplot.figure(figsize=sq_leaf)\n",
    "ax = fig.gca()\n",
    "ecdf = ECDF(a)\n",
    "ax.plot(ecdf.x, 1-ecdf.y, marker='.',ms=0.5, linestyle='-', color='black')\n",
    "ax.set_xlim(0, 60)\n",
    "#ax.set_ylim(0, 250)"
   ]
  },
  {
   "cell_type": "code",
   "execution_count": 15,
   "metadata": {},
   "outputs": [
    {
     "data": {
      "text/plain": [
       "0.4474570818818065"
      ]
     },
     "execution_count": 15,
     "metadata": {},
     "output_type": "execute_result"
    }
   ],
   "source": [
    "ecdf(10)-ecdf(3)"
   ]
  },
  {
   "cell_type": "markdown",
   "metadata": {},
   "source": [
    "### Partenze e arrivi"
   ]
  },
  {
   "cell_type": "code",
   "execution_count": 16,
   "metadata": {},
   "outputs": [],
   "source": [
    "def nit(t):\n",
    "    return 60*(60*t.hour+t.minute)+t.second"
   ]
  },
  {
   "cell_type": "code",
   "execution_count": 17,
   "metadata": {},
   "outputs": [],
   "source": [
    "a = [nit(i) for i in next_df['Data_prelievo'].tolist()]\n",
    "b = [nit(i) for i in next_df['Data_arrivo'].tolist()]"
   ]
  },
  {
   "cell_type": "code",
   "execution_count": 18,
   "metadata": {},
   "outputs": [
    {
     "data": {
      "image/png": "[encoded data removed]",
      "text/plain": [
       "<Figure size 360x216 with 1 Axes>"
      ]
     },
     "metadata": {
      "needs_background": "light"
     },
     "output_type": "display_data"
    }
   ],
   "source": [
    "fig = pyplot.figure(figsize=sq_leaf)\n",
    "ax = fig.gca()\n",
    "eps = 10*60\n",
    "sh = 7*60*60\n",
    "\n",
    "y, x = numpy.histogram(a, numpy.arange(0, 86400+eps, eps))\n",
    "y = numpy.roll(y, int(-sh/eps))\n",
    "ax.plot(x[:-1], y, marker='o',ms=0.0, linewidth=1.75, linestyle='--', color='green')\n",
    "\n",
    "y, x = numpy.histogram(b, numpy.arange(0, 86400+eps, eps))\n",
    "y = numpy.roll(y, int(-sh/eps))\n",
    "ax.plot(x[:-1], y, marker='o',ms=0.0, linewidth=1.75, linestyle='--', color='red')\n",
    "\n",
    "ax.set_xlim(0, 18*60*60)\n",
    "ax.axes.get_yaxis().set_visible(False)"
   ]
  },
  {
   "cell_type": "code",
   "execution_count": 19,
   "metadata": {},
   "outputs": [
    {
     "data": {
      "text/plain": [
       "[Text(0.0, 0, '7'),\n",
       " Text(10000.0, 0, '9'),\n",
       " Text(20000.0, 0, '12'),\n",
       " Text(30000.0, 0, '15'),\n",
       " Text(40000.0, 0, '18'),\n",
       " Text(50000.0, 0, '20'),\n",
       " Text(60000.0, 0, '23'),\n",
       " Text(70000.0, 0, '2')]"
      ]
     },
     "execution_count": 19,
     "metadata": {},
     "output_type": "execute_result"
    }
   ],
   "source": [
    "t1 = [l.get_text() for l in ax.get_xticklabels()]\n",
    "t2 = [int((int(i)+sh)%86400/60/60) for i in t1]\n",
    "ax.set_xticklabels(t2)"
   ]
  },
  {
   "cell_type": "code",
   "execution_count": 20,
   "metadata": {},
   "outputs": [],
   "source": [
    "leaf('partenza-arrivo-distro')"
   ]
  },
  {
   "cell_type": "markdown",
   "metadata": {},
   "source": [
    "## Voronoi Plots "
   ]
  },
  {
   "cell_type": "code",
   "execution_count": 21,
   "metadata": {},
   "outputs": [],
   "source": [
    "gps = pickle.load(open('/home/datasets/bikemi/station_gps_location.pkl', 'rb'))"
   ]
  },
  {
   "cell_type": "code",
   "execution_count": 22,
   "metadata": {},
   "outputs": [],
   "source": [
    "lst = [(g[1],g[0]) for g in gps.values()]\n",
    "raw_voronoi = Voronoi(lst)"
   ]
  },
  {
   "cell_type": "code",
   "execution_count": 23,
   "metadata": {},
   "outputs": [
    {
     "data": {
      "text/plain": [
       "<Figure size 360x216 with 0 Axes>"
      ]
     },
     "metadata": {},
     "output_type": "display_data"
    }
   ],
   "source": [
    "# figur-tela e i sui assi\n",
    "fig = pyplot.figure(figsize=sq_leaf)"
   ]
  },
  {
   "cell_type": "code",
   "execution_count": 24,
   "metadata": {},
   "outputs": [],
   "source": [
    "ax = fig.gca()"
   ]
  },
  {
   "cell_type": "code",
   "execution_count": 25,
   "metadata": {},
   "outputs": [
    {
     "data": {
      "image/png": "[encoded data removed]",
      "text/plain": [
       "<Figure size 360x216 with 1 Axes>"
      ]
     },
     "execution_count": 25,
     "metadata": {},
     "output_type": "execute_result"
    }
   ],
   "source": [
    "voronoi_plot_2d(\n",
    "    raw_voronoi,\n",
    "    ax = ax,\n",
    "    show_points = True,\n",
    "    show_vertices = False,\n",
    "    line_colors = \"black\",\n",
    "    line_width = 1.0,\n",
    "    line_alpha = 1.0,\n",
    "    point_size = 3.5\n",
    ")"
   ]
  },
  {
   "cell_type": "code",
   "execution_count": 26,
   "metadata": {},
   "outputs": [],
   "source": [
    "leaf('voronoi-galaxy')"
   ]
  },
  {
   "cell_type": "code",
   "execution_count": 27,
   "metadata": {},
   "outputs": [
    {
     "data": {
      "text/plain": [
       "(45.34810425283237, 45.673936986555596)"
      ]
     },
     "execution_count": 27,
     "metadata": {},
     "output_type": "execute_result"
    },
    {
     "data": {
      "image/png": "[encoded data removed]",
      "text/plain": [
       "<Figure size 360x216 with 1 Axes>"
      ]
     },
     "metadata": {
      "needs_background": "light"
     },
     "output_type": "display_data"
    }
   ],
   "source": [
    "# figur-tela e i sui assi\n",
    "fig = pyplot.figure(figsize=sq_leaf)\n",
    "ax = fig.gca()\n",
    "\n",
    "cy = [i[1] for i in raw_voronoi.vertices]\n",
    "cx = [i[0] for i in raw_voronoi.vertices]\n",
    "\n",
    "ax.plot(cx, cy, marker='.',ms=1.5, linestyle=' ', color='purple')\n",
    "\n",
    "ax.set_xlim(min(cx)-0.04,max(cx)+0.04)\n",
    "ax.set_ylim(min(cy)-0.04,max(cy)+0.04)"
   ]
  },
  {
   "cell_type": "markdown",
   "metadata": {},
   "source": [
    "### Sample "
   ]
  },
  {
   "cell_type": "code",
   "execution_count": 28,
   "metadata": {},
   "outputs": [],
   "source": [
    "csv_uri = '/home/datasets/bikemi/2017/12 2017.csv'"
   ]
  },
  {
   "cell_type": "code",
   "execution_count": 29,
   "metadata": {},
   "outputs": [],
   "source": [
    "df = pandas.read_csv(csv_uri,\n",
    "                           lineterminator ='\\r',\n",
    "                           encoding = 'iso8859_2',\n",
    "                           sep = ';',\n",
    "                           parse_dates = ['Data_prelievo','Data_arrivo'],\n",
    "                           date_parser = lambda x: datetime.datetime.strptime(x,'%d/%m/%y %H:%M'),\n",
    "                           decimal = '.'\n",
    "                          )"
   ]
  },
  {
   "cell_type": "code",
   "execution_count": 30,
   "metadata": {},
   "outputs": [],
   "source": [
    "nomi = set()\n",
    "for _, i in df.iterrows():\n",
    "    nomi.add(i['Nome_stazione_arrivo'])\n",
    "    nomi.add(i['Nome_stazione_prelievo'])"
   ]
  },
  {
   "cell_type": "code",
   "execution_count": 31,
   "metadata": {},
   "outputs": [
    {
     "data": {
      "text/plain": [
       "{'Accursio - Portello',\n",
       " 'Adamello - Lorenzini',\n",
       " 'Alserio - Cola Montano',\n",
       " 'Amendola M1',\n",
       " 'Aquileia',\n",
       " 'Arcivescovado',\n",
       " 'Arco della Pace 1 - Bertani',\n",
       " 'Arco della Pace 2 - Pagano',\n",
       " 'Arcole - Argelati',\n",
       " 'Arduino',\n",
       " 'Ascanio Sforza - Pavia',\n",
       " 'Aspromonte - Pecchio',\n",
       " 'Augusto',\n",
       " 'B.Marcello - Boscovich',\n",
       " 'Bacone - Monteverdi',\n",
       " 'Baldinucci - Maffucci',\n",
       " 'Balilla - Tibaldi',\n",
       " 'Bassini - Grossich',\n",
       " 'Bastioni di Porta Venezia',\n",
       " 'Bausan - Brofferio',\n",
       " \"Beatrice d'Este - Cassolo\",\n",
       " 'Beccaria',\n",
       " 'Benaco - Brembo',\n",
       " 'Bergognone - Tortona',\n",
       " 'Bernini',\n",
       " 'Bertarelli',\n",
       " 'Bicocca M5 - Pulci',\n",
       " 'Bocconi 2 - Bach',\n",
       " 'Bocconi 3 - I. Aragona',\n",
       " 'Bonomelli',\n",
       " 'Borgogna',\n",
       " 'Borsieri - Confalonieri',\n",
       " 'Bovisa - Lambruschini',\n",
       " 'Bovisa Passante 1 - Alfieri',\n",
       " 'Brenta MM',\n",
       " 'Brera',\n",
       " 'Brescia',\n",
       " 'Brianza - Venini',\n",
       " 'Bronzetti - Archimede',\n",
       " 'Buenos Aires - Argentina',\n",
       " 'Buenos Aires - Lima',\n",
       " 'Buonarroti',\n",
       " 'Bussero - F. Testi',\n",
       " \"Ca' Granda - F. Testi\",\n",
       " 'Cadore - Pinaroli',\n",
       " 'Cadorna 1',\n",
       " 'Cadorna 2',\n",
       " 'Cadorna 3',\n",
       " 'Caiazzo',\n",
       " 'Cairoli',\n",
       " 'Caldara / Curtatone',\n",
       " 'Caneva - Tolentino',\n",
       " 'Canova - Sangiorgio',\n",
       " 'Cantore',\n",
       " 'Cant\\x9d',\n",
       " 'Cardinal Ferrari',\n",
       " 'Carlo Magno - Alcuino',\n",
       " 'Castel Morrone - M. A. Di Savoia',\n",
       " 'Castelli - Ailanti',\n",
       " 'Castello',\n",
       " 'Castello Acquario civico',\n",
       " 'Cavour',\n",
       " 'Centrale 1',\n",
       " 'Centrale 2',\n",
       " 'Chiesa - E. Filiberto',\n",
       " 'Chiese - F. Testi',\n",
       " 'Cinque Giornate',\n",
       " 'Cirene - Friuli',\n",
       " 'Col di Lana - Col Moschin',\n",
       " 'Conciliazione',\n",
       " 'Coni Zugna Solari',\n",
       " 'Crema - Giulio Romano',\n",
       " 'Crocetta',\n",
       " 'Cusani',\n",
       " \"D'Ancona\",\n",
       " 'Dante - San Tomaso',\n",
       " 'Dateo',\n",
       " 'De Amicis - Conca Del Naviglio',\n",
       " 'De Angeli - R. Sanzio',\n",
       " 'De Angeli - Ripamonti',\n",
       " 'De Marchi - Bottelli',\n",
       " 'De Marchi - Lucini',\n",
       " \"Dell'Umanitaria\",\n",
       " 'Dergano',\n",
       " 'Diaz',\n",
       " 'Domodossola FNM - Filelfo',\n",
       " 'Donizetti \"Provincia\"',\n",
       " 'Duomo',\n",
       " \"Durante - D'aviano\",\n",
       " 'Edison',\n",
       " 'Elba - Cimarosa',\n",
       " 'Emilia - Piceno',\n",
       " 'Erculea',\n",
       " 'F.Filzi',\n",
       " 'Farini - Quadrio',\n",
       " 'Fatebenefratelli',\n",
       " 'Festa del Perdono',\n",
       " 'Fiamma',\n",
       " 'Firenze',\n",
       " 'Foppa - Caravaggio',\n",
       " 'Fratelli Bandiera',\n",
       " 'Friuli',\n",
       " 'Gadio - Paleocapa',\n",
       " 'Galvani - Restelli - RL',\n",
       " 'Garibaldi - Sturzo',\n",
       " 'Garibaldi Pepe',\n",
       " 'Gioia - Cagliero',\n",
       " 'Gioia - Carissimi',\n",
       " \"Gioia - Cassina De' Pomm\",\n",
       " 'Gioia - Pirelli',\n",
       " 'Giovanni XXIII',\n",
       " 'Gorini - Strambio',\n",
       " 'Gorizia 1',\n",
       " 'Gorizia 2',\n",
       " 'Govone - Borgese',\n",
       " 'IV Novembre',\n",
       " 'Imbonati - Dergano M3',\n",
       " 'Indipendenza-Castel Morrone',\n",
       " 'Istria M5 - F. Testi',\n",
       " 'Italia - San Martino',\n",
       " 'Italia - Santa Sofia',\n",
       " 'Lagosta',\n",
       " 'Lancetti Passante - Maloja',\n",
       " 'Lanza',\n",
       " 'Lazio - Vasari - Morosini',\n",
       " 'Legnano Arena civica',\n",
       " 'Livigno - Monte San Genesio',\n",
       " 'Lodi - Papi',\n",
       " 'Lombardia - Vallazze',\n",
       " 'Loreto 1',\n",
       " 'Lotto',\n",
       " 'M. Gioia - \"Regione\"',\n",
       " 'Mac Mahon - Artieri',\n",
       " 'Mac Mahon - Caracciolo',\n",
       " 'Maciachini - Marche',\n",
       " 'Majno - Baretti',\n",
       " 'Manin - Bastioni',\n",
       " 'Manzoni',\n",
       " 'Marussig - Castelvetro',\n",
       " 'Mascagni',\n",
       " 'Meda',\n",
       " \"Medaglie D'Oro 1\",\n",
       " \"Medaglie D'Oro 2\",\n",
       " 'Melchiorre Gioia - Galvani',\n",
       " 'Melzi d Eril - Cagnola',\n",
       " 'Mentana',\n",
       " 'Milizie - Tortona',\n",
       " 'Missori',\n",
       " 'Modena - Castel Morrone',\n",
       " 'Molino Dorino M1',\n",
       " 'Molino delle Armi',\n",
       " 'Montenero - Spartaco',\n",
       " 'Morgagni Redi',\n",
       " 'Morozzo della Rocca',\n",
       " 'Moscova',\n",
       " 'Murat - Villani - Milano Sport',\n",
       " 'Muratori - Umbria',\n",
       " 'Napo Torriani De Lellis',\n",
       " 'Napoli - Washington',\n",
       " 'Naviglio G.Valenza',\n",
       " 'Naviglio Pavese - Torricelli',\n",
       " 'Nigra - Castellini',\n",
       " 'Novelli - Carnaghi',\n",
       " 'Ospedale Maggiore',\n",
       " 'P.zza Luigi di Savoia',\n",
       " \"Pagano - Guido D'Arezzo\",\n",
       " 'Palazzo Marino',\n",
       " 'Palestro 1',\n",
       " 'Palestro 2',\n",
       " 'Patellani',\n",
       " 'Piazza Carbonari',\n",
       " 'Piazza Nizza',\n",
       " 'Piazzale Lodi',\n",
       " 'Piazzi - Bernina',\n",
       " 'Piola',\n",
       " 'Pirelli - UNI Bicocca',\n",
       " 'Pola RL',\n",
       " 'Politecnico',\n",
       " 'Porta Genova',\n",
       " 'Porta Nuova',\n",
       " 'Porta Venezia',\n",
       " 'Porta Venezia 2',\n",
       " 'Porta Volta',\n",
       " 'Procaccini - Gramsci',\n",
       " 'QT8 - Isernia',\n",
       " 'Regina Margherita',\n",
       " 'Reni - Guardi',\n",
       " 'Repubblica',\n",
       " 'Restelli - Galvani RL 1',\n",
       " 'Richini',\n",
       " 'Rio De Janeiro - Sarto',\n",
       " 'Ripamonti Bellezza',\n",
       " 'Romagna - Pascoli',\n",
       " 'Romolo M2',\n",
       " 'Roncaglia - Washington',\n",
       " 'Rosario',\n",
       " 'Rotonda della Besana',\n",
       " 'S. F. Romana',\n",
       " 'S. Nazaro in Brolo',\n",
       " 'S. Stefano',\n",
       " 'S.Gioachimo',\n",
       " 'S.M. del Carso',\n",
       " 'San Babila - RIMOSSA-',\n",
       " 'San Babila Bis',\n",
       " 'San Barnaba H Mangiagalli',\n",
       " 'San Giorgio',\n",
       " 'San Giovanni sul Muro',\n",
       " 'San Gottardo - Gentilino',\n",
       " 'San Lorenzo - \"Colonne\"',\n",
       " 'San Marco',\n",
       " \"San Pietro all'Orto\",\n",
       " 'San Pietro in Gessate',\n",
       " 'San Vito',\n",
       " \"Sant'Agostino\",\n",
       " \"Sant'Ambrogio\",\n",
       " \"Sant'Angelo - P.ta Nuova\",\n",
       " \"Sant'Eustorgio- P.ta Ticinese\",\n",
       " 'Santa Maria Beltrade',\n",
       " 'Santa Maria delle Grazie',\n",
       " 'Santissima Trinit_',\n",
       " 'Sarpi Albertini',\n",
       " 'Sarpi Niccolini',\n",
       " 'Savona - Tolstoj',\n",
       " 'Segantini - Darwin',\n",
       " 'Sempione - Melzi d Eril',\n",
       " 'Sempione - RAI',\n",
       " 'Senato',\n",
       " 'Settembrini - Vitruvio',\n",
       " 'Spadolini - Centro Leoni',\n",
       " 'Sraffa',\n",
       " 'Staz. Greco - Pirelli - Cozzi',\n",
       " 'Stefini - Ressi',\n",
       " 'Stelvio - Farini',\n",
       " 'Stuparich - Albani',\n",
       " 'Susa - Sidoli',\n",
       " 'Suzzani - Arezzo',\n",
       " 'Taramelli RL',\n",
       " 'Temolo - Innovazione',\n",
       " 'Teodorico - Gattamelata',\n",
       " 'Teodosio - Pacini',\n",
       " 'Teodosio - Porpora',\n",
       " 'Tiraboschi - Muratori',\n",
       " 'Tommaseo',\n",
       " 'Torino - Carrobbio',\n",
       " 'Toscana- Leoni',\n",
       " 'Treves',\n",
       " 'Triennale',\n",
       " 'Tunisia - Cozzi',\n",
       " 'Tunisia Lecco Bellintani',\n",
       " 'Universit_ Bocconi',\n",
       " 'Universit_ Cattolica',\n",
       " 'V Alpini',\n",
       " 'VI Febbraio',\n",
       " 'VIII novembre',\n",
       " 'Valtellina - Aprica',\n",
       " 'Valtellina - Farini',\n",
       " 'Velasca',\n",
       " 'Vercelli - Cherubini',\n",
       " 'Vercelli - Piemonte',\n",
       " 'Verrocchio - Juvara',\n",
       " 'Vesuvio - Lipari',\n",
       " 'Vigliani - Scarampo',\n",
       " 'Villapizzone FFSS - Lambruschini',\n",
       " 'Vittor Pisani',\n",
       " 'XXII Marzo',\n",
       " 'XXIV Maggio',\n",
       " 'XXV Aprile',\n",
       " 'Zara M3',\n",
       " 'Zavattari - Tempesta'}"
      ]
     },
     "execution_count": 31,
     "metadata": {},
     "output_type": "execute_result"
    }
   ],
   "source": [
    "nomi"
   ]
  },
  {
   "cell_type": "code",
   "execution_count": 32,
   "metadata": {},
   "outputs": [
    {
     "data": {
      "text/plain": [
       "Index(['Bicicletta', 'Tipo_bici', 'Cliente', 'Data_riferimento_prelievo',\n",
       "       'Data_prelievo', 'Ora_prelievo', 'Giorno_prelievo', 'Mese_prelievo',\n",
       "       'Anno_prelievo', 'GMA_prelievo', 'Gio_settimana_prelievo',\n",
       "       'Festivo_feriale_prelievo', 'Fascia_oraria_prelievo',\n",
       "       'Stazione_prelievo', 'Nome_stazione_prelievo', 'Slot_prelievo',\n",
       "       'Data_riferimento_arrivo', 'Data_arrivo', 'Ora_arrivo', 'Giorno_arrivo',\n",
       "       'Mese_arrivo', 'Anno_arrivo', 'GMA_arrivo', 'Gio_settimana_arrivo',\n",
       "       'Festivo_feriale_arrivo', 'Fascia_oraria_arrivo', 'Stazione_arrivo',\n",
       "       'Nome_stazione_arrivo', 'Slot_arrivo', 'Durata_noleggio', 'Durata_sec',\n",
       "       'Distanza_totale', 'Co2_evitata', 'Calorie_consumate', 'Temp_min_GP',\n",
       "       'Temp_max_GP', 'Temp_media_GP', 'Precipitazioni_GP', 'Press_atm_GP',\n",
       "       'Temp_min_GA', 'Temp_max_GA', 'Temp_media_GA', 'Precipitazioni_GA',\n",
       "       'Press_atm_GA', 'Pm10_GP', 'Pm25_GP', 'No2_mean_GP', 'Co_mean_GP',\n",
       "       'Pm10_GA', 'Pm25_GA', 'No2_mean_GA', 'Co_mean_GA'],\n",
       "      dtype='object')"
      ]
     },
     "execution_count": 32,
     "metadata": {},
     "output_type": "execute_result"
    }
   ],
   "source": [
    "df.columns"
   ]
  },
  {
   "cell_type": "markdown",
   "metadata": {},
   "source": [
    "### Beta distro"
   ]
  },
  {
   "cell_type": "code",
   "execution_count": 33,
   "metadata": {},
   "outputs": [
    {
     "ename": "NameError",
     "evalue": "name 'categories' is not defined",
     "output_type": "error",
     "traceback": [
      "\u001b[0;31m---------------------------------------------------------------------------\u001b[0m",
      "\u001b[0;31mNameError\u001b[0m                                 Traceback (most recent call last)",
      "\u001b[0;32m<ipython-input-33-1c2badb711c4>\u001b[0m in \u001b[0;36m<module>\u001b[0;34m\u001b[0m\n\u001b[1;32m      3\u001b[0m \u001b[0mfig\u001b[0m \u001b[0;34m=\u001b[0m \u001b[0mpyplot\u001b[0m\u001b[0;34m.\u001b[0m\u001b[0mfigure\u001b[0m\u001b[0;34m(\u001b[0m\u001b[0mfigsize\u001b[0m\u001b[0;34m=\u001b[0m\u001b[0msq_leaf\u001b[0m\u001b[0;34m)\u001b[0m\u001b[0;34m\u001b[0m\u001b[0;34m\u001b[0m\u001b[0m\n\u001b[1;32m      4\u001b[0m \u001b[0max\u001b[0m \u001b[0;34m=\u001b[0m \u001b[0mfig\u001b[0m\u001b[0;34m.\u001b[0m\u001b[0mgca\u001b[0m\u001b[0;34m(\u001b[0m\u001b[0;34m)\u001b[0m\u001b[0;34m\u001b[0m\u001b[0;34m\u001b[0m\u001b[0m\n\u001b[0;32m----> 5\u001b[0;31m \u001b[0;32mfor\u001b[0m \u001b[0mi\u001b[0m \u001b[0;32min\u001b[0m \u001b[0mrange\u001b[0m\u001b[0;34m(\u001b[0m\u001b[0mlen\u001b[0m\u001b[0;34m(\u001b[0m\u001b[0mcategories\u001b[0m\u001b[0;34m)\u001b[0m\u001b[0;34m)\u001b[0m\u001b[0;34m:\u001b[0m\u001b[0;34m\u001b[0m\u001b[0;34m\u001b[0m\u001b[0m\n\u001b[0m\u001b[1;32m      6\u001b[0m     \u001b[0mt\u001b[0m\u001b[0;34m=\u001b[0m \u001b[0;34m[\u001b[0m\u001b[0mb\u001b[0m\u001b[0;34m[\u001b[0m\u001b[0mi\u001b[0m\u001b[0;34m,\u001b[0m\u001b[0mj\u001b[0m\u001b[0;34m]\u001b[0m \u001b[0;32mfor\u001b[0m \u001b[0mj\u001b[0m \u001b[0;32min\u001b[0m \u001b[0mrange\u001b[0m\u001b[0;34m(\u001b[0m\u001b[0mlen\u001b[0m\u001b[0;34m(\u001b[0m\u001b[0mb\u001b[0m\u001b[0;34m[\u001b[0m\u001b[0mi\u001b[0m\u001b[0;34m]\u001b[0m\u001b[0;34m)\u001b[0m\u001b[0;34m)\u001b[0m\u001b[0;34m]\u001b[0m\u001b[0;34m\u001b[0m\u001b[0;34m\u001b[0m\u001b[0m\n\u001b[1;32m      7\u001b[0m     \u001b[0mx\u001b[0m\u001b[0;34m,\u001b[0m \u001b[0my\u001b[0m \u001b[0;34m=\u001b[0m \u001b[0mnumpy\u001b[0m\u001b[0;34m.\u001b[0m\u001b[0mhistogram\u001b[0m\u001b[0;34m(\u001b[0m\u001b[0mt\u001b[0m\u001b[0;34m,\u001b[0m \u001b[0mrange\u001b[0m\u001b[0;34m(\u001b[0m\u001b[0mmax\u001b[0m\u001b[0;34m(\u001b[0m\u001b[0mt\u001b[0m\u001b[0;34m)\u001b[0m\u001b[0;34m)\u001b[0m\u001b[0;34m)\u001b[0m\u001b[0;34m\u001b[0m\u001b[0;34m\u001b[0m\u001b[0m\n",
      "\u001b[0;31mNameError\u001b[0m: name 'categories' is not defined"
     ]
    },
    {
     "data": {
      "image/png": "[encoded data removed]",
      "text/plain": [
       "<Figure size 360x216 with 1 Axes>"
      ]
     },
     "metadata": {
      "needs_background": "light"
     },
     "output_type": "display_data"
    }
   ],
   "source": [
    "# distro word topic\n",
    "rgb = ['black','grey','pink','brown','purple','blue','green','yellow','orange','red']\n",
    "fig = pyplot.figure(figsize=sq_leaf)\n",
    "ax = fig.gca()\n",
    "for i in range(len(categories)):\n",
    "    t= [b[i,j] for j in range(len(b[i]))]\n",
    "    x, y = numpy.histogram(t, range(max(t)))\n",
    "    ax.loglog(y[1:], x, marker='.',ms=2.25, linestyle='', color=rgb[i])"
   ]
  }
 ],
 "metadata": {
  "kernelspec": {
   "display_name": "Python BikeMI",
   "language": "python",
   "name": "bikemi"
  },
  "language_info": {
   "codemirror_mode": {
    "name": "ipython",
    "version": 3
   },
   "file_extension": ".py",
   "mimetype": "text/x-python",
   "name": "python",
   "nbconvert_exporter": "python",
   "pygments_lexer": "ipython3",
   "version": "3.7.4"
  }
 },
 "nbformat": 4,
 "nbformat_minor": 2
}
