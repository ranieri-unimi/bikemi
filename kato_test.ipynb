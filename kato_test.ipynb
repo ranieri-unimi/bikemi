{
 "cells": [
  {
   "cell_type": "code",
   "execution_count": null,
   "metadata": {},
   "outputs": [],
   "source": [
    "# -*- coding:utf-8 -*-\n",
    "%matplotlib inline"
   ]
  },
  {
   "cell_type": "code",
   "execution_count": null,
   "metadata": {},
   "outputs": [],
   "source": [
    "import sys, os\n",
    "root_dir = os.path.join(os.path.dirname(os.path.realpath('__file__')), '..')\n",
    "sys.path.append(root_dir)\n",
    "import dmr\n",
    "import numpy as np\n",
    "import matplotlib.pyplot as plt\n",
    "from collections import defaultdict"
   ]
  },
  {
   "cell_type": "code",
   "execution_count": null,
   "metadata": {},
   "outputs": [],
   "source": [
    "def init_dmr(docfilepath, vecfilepath, K=5, sigma=1.0, beta=0.01):\n",
    "    corpus = dmr.Corpus.read(docfilepath)\n",
    "    vecs = dmr.Corpus.read(vecfilepath, dtype=float)\n",
    "    vecs = np.array([[v for v in vec] for vec in vecs], dtype=np.float32)\n",
    "    voca = dmr.Vocabulary()\n",
    "    docs = voca.read_corpus(corpus)\n",
    "    lda = dmr.DMR(K, sigma, beta, docs, vecs, voca.size())\n",
    "    return corpus, voca, docs, vecs, lda"
   ]
  },
  {
   "cell_type": "code",
   "execution_count": null,
   "metadata": {},
   "outputs": [],
   "source": [
    "docfilepath = os.path.join(root_dir, 'dat', 'DMR.doc.dat')\n",
    "vecfilepath = os.path.join(root_dir, 'dat', 'DMR.vec.dat')"
   ]
  },
  {
   "cell_type": "code",
   "execution_count": null,
   "metadata": {},
   "outputs": [],
   "source": [
    "# learning\n",
    "corpus, voca, docs, vecs, lda = init_dmr(docfilepath, vecfilepath)\n",
    "lda.learning(iteration=100, voca=voca)"
   ]
  },
  {
   "cell_type": "code",
   "execution_count": null,
   "metadata": {},
   "outputs": [],
   "source": [
    "# word probability of each topic\n",
    "wdist = lda.word_dist_with_voca(voca)\n",
    "for k in wdist:\n",
    "    print(\"TOPIC\", k)\n",
    "    print(\"\\t\".join([w for w in wdist[k]]))\n",
    "    print(\"\\t\".join([\"%0.2f\" % wdist[k][w] for w in wdist[k]]))"
   ]
  },
  {
   "cell_type": "code",
   "execution_count": null,
   "metadata": {},
   "outputs": [],
   "source": [
    "print()"
   ]
  },
  {
   "cell_type": "code",
   "execution_count": null,
   "metadata": {},
   "outputs": [],
   "source": [
    "# topic probability of each document\n",
    "tdist = lda.topicdist()\n",
    "for first_letter in [\"a\", \"b\", \"c\", \"d\", \"e\"]:\n",
    "    for doc, vec, td in zip(corpus, vecs, tdist):\n",
    "        if doc[0].startswith(first_letter):\n",
    "            print(\"DOC\", \"Words: \", doc, \"Max topic: \", np.argmax(td), \"Max prob.: \", np.max(td))\n",
    "            print(\"ALPHA\", np.dot(vec, lda.Lambda.T))"
   ]
  }
 ],
 "metadata": {
  "kernelspec": {
   "display_name": "Python BikeMI",
   "language": "python",
   "name": "bikemi"
  },
  "language_info": {
   "codemirror_mode": {
    "name": "ipython",
    "version": 3
   },
   "file_extension": ".py",
   "mimetype": "text/x-python",
   "name": "python",
   "nbconvert_exporter": "python",
   "pygments_lexer": "ipython3",
   "version": "3.7.4"
  }
 },
 "nbformat": 4,
 "nbformat_minor": 2
}
